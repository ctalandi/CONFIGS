{
 "cells": [
  {
   "cell_type": "code",
   "execution_count": 3,
   "id": "c2db7e2f-ae8b-480e-b211-45eb382fb0b1",
   "metadata": {},
   "outputs": [],
   "source": [
    "#####################################\n",
    "## modules et bibliothèques python ##\n",
    "#####################################\n",
    "# Import library\n",
    "import numpy as np\n",
    "import xarray as xr\n",
    "from netCDF4 import Dataset\n",
    "\n",
    "from matplotlib import pyplot as plt\n",
    "import matplotlib.dates as mpd\n",
    "from mpl_toolkits.basemap import Basemap\n",
    "#import cartopy\n",
    "#import cartopy.crs as ccrs\n",
    "\n",
    "import os\n",
    "import sys\n",
    "import random"
   ]
  },
  {
   "cell_type": "markdown",
   "id": "26fb4862-9bd3-41a9-a62d-5e6aaf55d08d",
   "metadata": {},
   "source": [
    "# ORCA025 GRID"
   ]
  },
  {
   "cell_type": "code",
   "execution_count": 4,
   "id": "c6f04483-e264-489a-a066-f6dcc477cd6f",
   "metadata": {},
   "outputs": [
    {
     "name": "stdout",
     "output_type": "stream",
     "text": [
      "True\n",
      "True\n",
      "Meshmask file is opened\n",
      "NETCDF4\n"
     ]
    },
    {
     "name": "stderr",
     "output_type": "stream",
     "text": [
      "<ipython-input-4-1dd694c4ff79>:19: DeprecationWarning: `np.bool` is a deprecated alias for the builtin `bool`. To silence this warning, use `bool` by itself. Doing this will not modify any behavior and is safe. If you specifically wanted the numpy scalar type, use `np.bool_` here.\n",
      "Deprecated in NumPy 1.20; for more details and guidance: https://numpy.org/devdocs/release/1.20.0-notes.html#deprecations\n",
      "  tmasksurf = ncdat.variables[\"mppmask\"][0,:,:]\n"
     ]
    },
    {
     "name": "stdout",
     "output_type": "stream",
     "text": [
      "1207 1442\n"
     ]
    },
    {
     "name": "stderr",
     "output_type": "stream",
     "text": [
      "<ipython-input-4-1dd694c4ff79>:20: DeprecationWarning: `np.bool` is a deprecated alias for the builtin `bool`. To silence this warning, use `bool` by itself. Doing this will not modify any behavior and is safe. If you specifically wanted the numpy scalar type, use `np.bool_` here.\n",
      "Deprecated in NumPy 1.20; for more details and guidance: https://numpy.org/devdocs/release/1.20.0-notes.html#deprecations\n",
      "  e1t = ncdat.variables[\"e1t\"][0,:,:]\n",
      "<ipython-input-4-1dd694c4ff79>:21: DeprecationWarning: `np.bool` is a deprecated alias for the builtin `bool`. To silence this warning, use `bool` by itself. Doing this will not modify any behavior and is safe. If you specifically wanted the numpy scalar type, use `np.bool_` here.\n",
      "Deprecated in NumPy 1.20; for more details and guidance: https://numpy.org/devdocs/release/1.20.0-notes.html#deprecations\n",
      "  e2t = ncdat.variables[\"e2t\"][0,:,:]\n"
     ]
    }
   ],
   "source": [
    "###########\n",
    "## TMASK ##\n",
    "###########\n",
    "#################################\n",
    "## Repertoire et fichiers clés ##\n",
    "#################################\n",
    "\n",
    "dirsrc = '/gpfswork/rech/hjl/uab91nb/' \n",
    "dirdat = dirsrc + \"Script/\"\n",
    "print (os.path.exists(dirdat))\n",
    "nfdata = dirdat + \"eORCA025.L75_domain_cfg_closed_seas_greenland.nc\"\n",
    "print (os.path.isfile(nfdata))\n",
    "#ncdat = xr.open_dataset(nfdata,\"r\")\n",
    "ncdat  = Dataset(nfdata,\"r\")\n",
    "print (\"Meshmask file is opened\")\n",
    "print (ncdat.data_model)\n",
    "#\n",
    "# read temperature field from thetao file\n",
    "tmasksurf = ncdat.variables[\"mppmask\"][0,:,:]\n",
    "e1t = ncdat.variables[\"e1t\"][0,:,:]\n",
    "e2t = ncdat.variables[\"e2t\"][0,:,:]\n",
    "ny,nx = tmasksurf.shape\n",
    "print(ny,nx)\n",
    "#\n",
    "ncdat.close()"
   ]
  },
  {
   "cell_type": "markdown",
   "id": "c4993267-e423-4f89-9734-7238fd37d7cd",
   "metadata": {},
   "source": [
    "## Initialisation: 1 particle per cell"
   ]
  },
  {
   "cell_type": "code",
   "execution_count": null,
   "id": "9bc0a113-49ff-496d-bbf7-74c8753b1aa3",
   "metadata": {},
   "outputs": [],
   "source": [
    "# Create initial_positions.txt file and fill it\n",
    "#fnc = dirdat + \"/initial_positions_bottom_ORCA12.txt\"\n",
    "#fnc = \"initial_positions_bottom_ORCA12.txt\"\n",
    "fnc = \"initial_positions.txt\"\n",
    "\n",
    "text_file = open(fnc, \"w\")\n",
    "\n",
    "count = 0\n",
    "\n",
    "for jj in range(1,ny-1):\n",
    "    for ii in range(1,nx-1):\n",
    "        if tmasksurf[jj,ii]> 0.5:\n",
    "            text_file.write(str(float(ii+0.5))  + \"  \" +\n",
    "                            str(float(jj+0.5))  + \"  \" +\n",
    "                            str(float(1.5))     + \"  \" +\n",
    "                            str(float(0.5))     + \"  \" +\n",
    "                            str(1.0)            + \"\\n\" )\n",
    "            count += 1\n",
    "            \n",
    "    \n",
    "text_file.close()\n",
    "\n",
    "print(\"number of initial positions =\",count)"
   ]
  },
  {
   "cell_type": "markdown",
   "id": "da174039-a6f4-43b0-97c7-5ac4171f3d11",
   "metadata": {},
   "source": [
    "## Initialisation: 2.10$^7$ particles (ORCA025)"
   ]
  },
  {
   "cell_type": "markdown",
   "id": "99dad924-0cc6-4910-89b3-e25b9a4f50b7",
   "metadata": {},
   "source": [
    "### Air of the ocean"
   ]
  },
  {
   "cell_type": "code",
   "execution_count": 7,
   "id": "2c9a6e90-993a-44b9-9b9c-86c0639b4234",
   "metadata": {},
   "outputs": [
    {
     "name": "stdout",
     "output_type": "stream",
     "text": [
      "Total area of ocean: 3.61e+14m²\n"
     ]
    }
   ],
   "source": [
    "# Ocean area \n",
    "A_oce = e1t * e2t * tmasksurf\n",
    "A_oce = np.nansum(A_oce)\n",
    "print(f'Total area of ocean: {A_oce:.2e}m²')"
   ]
  },
  {
   "cell_type": "markdown",
   "id": "1992a1a4-28e6-41d8-a99d-98ef9d7046f1",
   "metadata": {},
   "source": [
    "### Set particles in mech with concentration = 1 "
   ]
  },
  {
   "cell_type": "code",
   "execution_count": 8,
   "id": "253900b5-b9f6-4aba-bb5b-2b2105ce530b",
   "metadata": {},
   "outputs": [],
   "source": [
    "# Truncation function\n",
    "def truncate(n, decimals=0):\n",
    "    multiplier = 10 ** decimals\n",
    "    return int(n * multiplier) / multiplier"
   ]
  },
  {
   "cell_type": "code",
   "execution_count": null,
   "id": "8a0a37a2-8f6d-4047-a74a-26963a98af26",
   "metadata": {},
   "outputs": [],
   "source": [
    "# Create initial_positions.txt file and fill it with concentration to 1 \n",
    "\n",
    "fnc = \"initial_positions_C1.txt\"\n",
    "\n",
    "text_file = open(fnc, \"w\")\n",
    "\n",
    "eps = 0.001           # Ariane can't deal if particle are on the bunderies: distance from the bounderies \n",
    "n_tot = 2e7           # Number of total particles put in the ocean \n",
    "alpha = n_tot/A_oce   # Concentration of particles in the ocean \n",
    "\n",
    "for jj in range(1,ny-1):\n",
    "    for ii in range(1,nx-1):\n",
    "        Aii_jj = e1t[jj,ii] * e2t[jj,ii] * tmasksurf[jj,ii]\n",
    "        nii_jj = int(alpha * Aii_jj) # Number of particles per mesh \n",
    "        if nii_jj > 0.5:\n",
    "            for nn in range(nii_jj):\n",
    "            # Get ramdom particles between ii+eps and ii+1-eps\n",
    "                text_file.write(str(truncate(random.uniform(ii+eps, ii+1-eps), 3))  + \"  \" +\n",
    "                                str(truncate(random.uniform(jj+eps, jj+1-eps), 3))  + \"  \" + \n",
    "                                str(float(1.5))     + \"  \" + # Initial time\n",
    "                                str(float(0.5))     + \"  \" + # On surface \n",
    "                                str(1.0)            + \"\\n\" )\n",
    "        #count += nii_jj\n",
    "            \n",
    "    \n",
    "text_file.close()"
   ]
  },
  {
   "cell_type": "markdown",
   "id": "1526fa0c-6d76-41e0-a551-e55b5114fb11",
   "metadata": {},
   "source": [
    "## Initialisation: 2.10$^3$ particles per zones (ORCA025)"
   ]
  },
  {
   "cell_type": "code",
   "execution_count": 36,
   "id": "99c58670-f0fe-48cc-9c93-8bd09f3ad5f4",
   "metadata": {
    "tags": []
   },
   "outputs": [],
   "source": [
    "# Define slices for the zones\n",
    "zones = [\n",
    "    (slice(949, 952), slice(975, 978)),  # Zone 1\n",
    "    (slice(899, 902), slice(975, 978)),  # Zone 2 \n",
    "    (slice(799, 802), slice(975, 978)),  # Zone 3 \n",
    "]\n",
    "\n",
    "fnc = \"initial_positions_zones.txt\"\n",
    "\n",
    "text_file = open(fnc, \"w\")\n",
    "\n",
    "eps = 0.001     # Ariane can't deal if particle are on the bunderies: distance from the bounderies \n",
    "n_zones = 6e3   # Number of particles put in the 3 zones \n",
    "  \n",
    "A_zones = (e1t[zones[0]]*e2t[zones[0]]*tmasksurf[zones[0]])+ \\\n",
    "        (e1t[zones[1]]*e2t[zones[1]]*tmasksurf[zones[1]])  + \\\n",
    "        (e1t[zones[2]]*e2t[zones[2]]*tmasksurf[zones[2]])\n",
    "        \n",
    "alpha = n_zones / A_zones.sum() \n",
    "           \n",
    "for ilat, ilon in zones:\n",
    "    lon = np.arange(ilon.start, ilon.stop)\n",
    "    lat = np.arange(ilat.start, ilat.stop)\n",
    "    for jj in lat:\n",
    "        for ii in lon:\n",
    "            Aii_jj = e1t[jj,ii] * e2t[jj,ii] * tmasksurf[jj,ii]\n",
    "            nii_jj = int(alpha * Aii_jj) # Number of particles per mesh \n",
    "            if nii_jj > 0.5:\n",
    "                for nn in range(nii_jj):\n",
    "                # Get ramdom particles between ii+eps and ii+1-eps\n",
    "                    text_file.write(str(truncate(random.uniform(ii+eps, ii+1-eps), 3))  + \"  \" +\n",
    "                                    str(truncate(random.uniform(jj+eps, jj+1-eps), 3))  + \"  \" + \n",
    "                                    str(float(1.5))     + \"  \" + # Initial time\n",
    "                                    str(float(0.5))     + \"  \" + # On surface \n",
    "                                    str(1.0)            + \"\\n\" )\n",
    "\n",
    "text_file.close()\n",
    "          "
   ]
  },
  {
   "cell_type": "code",
   "execution_count": null,
   "id": "287ae461-bd4f-4f26-a5fc-fcc721652b4f",
   "metadata": {},
   "outputs": [],
   "source": []
  }
 ],
 "metadata": {
  "kernelspec": {
   "display_name": "phyocean-2023.05",
   "language": "python",
   "name": "phyocean-2023.05"
  },
  "language_info": {
   "codemirror_mode": {
    "name": "ipython",
    "version": 3
   },
   "file_extension": ".py",
   "mimetype": "text/x-python",
   "name": "python",
   "nbconvert_exporter": "python",
   "pygments_lexer": "ipython3",
   "version": "3.10.11"
  }
 },
 "nbformat": 4,
 "nbformat_minor": 5
}
